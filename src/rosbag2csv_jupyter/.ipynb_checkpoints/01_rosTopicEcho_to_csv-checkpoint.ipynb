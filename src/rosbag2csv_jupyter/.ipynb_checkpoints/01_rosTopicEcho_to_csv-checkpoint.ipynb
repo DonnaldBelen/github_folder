{
 "cells": [
  {
   "cell_type": "markdown",
   "metadata": {},
   "source": [
    "# ROS topic to CSV converter\n",
    "## usage\n",
    "1. Record rosbag2 in MOOX ROS system.  \n",
    "eg) \n",
    "```bash\n",
    "ros2 bag record -a -o ./your_rosbag_name\n",
    "```\n",
    "2. Convert rosbag2 file using ros2 topic echo function.  \n",
    "eg) \n",
    "```bash\n",
    "#Term 1\n",
    "ros2 bag play ./your_rosbag_name\n",
    "#Term 2\n",
    "ros2 topic echo f --csv /moox/data/sensor/azure_kinect/c_99 > ./kinect_c_99.csv\n",
    "```\n",
    "3. Load CSV file into this Jupytor code\n",
    "input dir = ./csv/\n",
    "\n",
    "* Output file is CSV file and pickle file.\n",
    "  * CSV file is flatten nest structure.\n",
    "  * pickle file is **NOT** flatten.\n",
    "  * /moox/data/sensor/azure_kinect/c_0 & /moox/data/sensor/azure_kinect/c_1 is unable "
   ]
  },
  {
   "cell_type": "code",
   "execution_count": 2,
   "metadata": {},
   "outputs": [],
   "source": [
    "import pandas as pd\n",
    "import json\n",
    "from collections import Counter\n",
    "import glob\n",
    "import os\n",
    "import csv\n",
    "import pickle\n"
   ]
  },
  {
   "cell_type": "code",
   "execution_count": 6,
   "metadata": {},
   "outputs": [],
   "source": [
    "base_path = os.getcwd()\n",
    "input_dirname = os.path.abspath(os.path.join(base_path,\"..\",\"..\",\"input\",\"csv_to_csv\"))\n",
    "output_dirname = os.path.abspath(os.path.join(base_path,\"..\",\"..\",\"output\",\"csv_to_csv\"))\n",
    "filenames = sorted(glob.glob(input_dirname + \"/**/*.csv\"))\n",
    "out_folder = os.path.basename(os.path.abspath(os.path.join(filenames[0],\"..\")))\n",
    "output_dirname = os.path.join(output_dirname,out_folder)\n",
    "os.makedirs(output_dirname,exist_ok=True)"
   ]
  },
  {
   "cell_type": "code",
   "execution_count": 1,
   "metadata": {},
   "outputs": [
    {
     "ename": "NameError",
     "evalue": "name 'glob' is not defined",
     "output_type": "error",
     "traceback": [
      "\u001b[0;31m---------------------------------------------------------------------------\u001b[0m",
      "\u001b[0;31mNameError\u001b[0m                                 Traceback (most recent call last)",
      "\u001b[0;32m<ipython-input-1-d5e92206c5d1>\u001b[0m in \u001b[0;36m<module>\u001b[0;34m\u001b[0m\n\u001b[0;32m----> 1\u001b[0;31m \u001b[0mfilenames\u001b[0m \u001b[0;34m=\u001b[0m \u001b[0msorted\u001b[0m\u001b[0;34m(\u001b[0m\u001b[0mglob\u001b[0m\u001b[0;34m.\u001b[0m\u001b[0mglob\u001b[0m\u001b[0;34m(\u001b[0m\u001b[0minput_dir\u001b[0m \u001b[0;34m+\u001b[0m \u001b[0;34m\"/*.csv\"\u001b[0m\u001b[0;34m)\u001b[0m\u001b[0;34m)\u001b[0m\u001b[0;34m\u001b[0m\u001b[0;34m\u001b[0m\u001b[0m\n\u001b[0m\u001b[1;32m      2\u001b[0m \u001b[0mfilenames\u001b[0m\u001b[0;34m\u001b[0m\u001b[0;34m\u001b[0m\u001b[0m\n",
      "\u001b[0;31mNameError\u001b[0m: name 'glob' is not defined"
     ]
    }
   ],
   "source": [
    "filenames = sorted(glob.glob(input_dir + \"/*.csv\"))\n",
    "filenames"
   ]
  },
  {
   "cell_type": "code",
   "execution_count": 66,
   "metadata": {},
   "outputs": [],
   "source": [
    "def flatten_json(nested_json):\n",
    "    \"\"\"\n",
    "        Flatten json object with nested keys into a single level.\n",
    "        Args:\n",
    "            nested_json: A nested json object.\n",
    "        Returns:\n",
    "            The flattened json object if successful, None otherwise.\n",
    "    \"\"\"\n",
    "    out = {}\n",
    "\n",
    "    def flatten(x, name=''):\n",
    "        if isinstance(x, dict):\n",
    "            for a in x:\n",
    "                flatten(x[a], name + a + '_')\n",
    "        elif isinstance(x, list):\n",
    "            i = 0\n",
    "            for a in x:\n",
    "                flatten(a, name + str(i) + '_')\n",
    "                i += 1\n",
    "        else:\n",
    "            out[name[:-1]] = x\n",
    "\n",
    "    flatten(nested_json)\n",
    "    return out"
   ]
  },
  {
   "cell_type": "code",
   "execution_count": 67,
   "metadata": {},
   "outputs": [],
   "source": [
    "for filename in filenames:\n",
    "    basename = os.path.basename(filename)\n",
    "    out_filename = os.path.join(output_dirname, basename.replace('.csv', '_parsed_json.csv'))\n",
    "    \n",
    "    with open(filename, 'r') as f:\n",
    "        data = f.read().split('\\n')\n",
    "    # Flatten JSON to make csv column names\n",
    "    data = [json.loads(i) for i in data if len(i) != 0]\n",
    "    flatten_data = [flatten_json(i) for i in data]\n",
    "\n",
    "    df = pd.DataFrame(flatten_data)\n",
    "\n",
    "    # Save data as a CSV file\n",
    "    df.to_csv(out_filename, index=False)\n",
    "    # Save data as a pickle file\n",
    "#     break"
   ]
  },
  {
   "cell_type": "code",
   "execution_count": 14,
   "metadata": {},
   "outputs": [
    {
     "data": {
      "text/plain": [
       "'/Users/uxg11/Documents/github_folder/output/csv_to_csv'"
      ]
     },
     "execution_count": 14,
     "metadata": {},
     "output_type": "execute_result"
    }
   ],
   "source": [
    "base_path = os.getcwd()\n",
    "input_dirname = os.path.abspath(os.path.join(base_path,\"..\",\"..\",\"input\",\"csv_to_csv\"))\n",
    "output_dirname = os.path.abspath(os.path.join(base_path,\"..\",\"..\",\"output\",\"csv_to_csv\"))\n",
    "#os.makedirs(output_dirname,exist_ok=True)\n",
    "output_dirname"
   ]
  },
  {
   "cell_type": "code",
   "execution_count": 21,
   "metadata": {},
   "outputs": [
    {
     "data": {
      "text/plain": [
       "'/Users/uxg11/Documents/github_folder/input/csv_to_csv*.csv'"
      ]
     },
     "execution_count": 21,
     "metadata": {},
     "output_type": "execute_result"
    }
   ],
   "source": [
    "input_dirname + \"*.csv\""
   ]
  },
  {
   "cell_type": "code",
   "execution_count": 26,
   "metadata": {},
   "outputs": [],
   "source": [
    "filenames = sorted(glob.glob(input_dirname + \"/**/*.csv\"))"
   ]
  },
  {
   "cell_type": "code",
   "execution_count": 56,
   "metadata": {},
   "outputs": [
    {
     "data": {
      "text/plain": [
       "['/Users/uxg11/Documents/github_folder/input/csv_to_csv/test1/action_c2.csv']"
      ]
     },
     "execution_count": 56,
     "metadata": {},
     "output_type": "execute_result"
    }
   ],
   "source": [
    "filenames"
   ]
  },
  {
   "cell_type": "code",
   "execution_count": 72,
   "metadata": {},
   "outputs": [],
   "source": [
    "tester = filenames[0]"
   ]
  },
  {
   "cell_type": "code",
   "execution_count": 73,
   "metadata": {},
   "outputs": [
    {
     "data": {
      "text/plain": [
       "'/Users/uxg11/Documents/github_folder/input/csv_to_csv/test1/action_c2.csv'"
      ]
     },
     "execution_count": 73,
     "metadata": {},
     "output_type": "execute_result"
    }
   ],
   "source": [
    "tester"
   ]
  },
  {
   "cell_type": "code",
   "execution_count": 78,
   "metadata": {},
   "outputs": [],
   "source": [
    "tester2 = os.path.abspath(os.path.join(tester,\"..\"))"
   ]
  },
  {
   "cell_type": "code",
   "execution_count": 79,
   "metadata": {},
   "outputs": [
    {
     "data": {
      "text/plain": [
       "'/Users/uxg11/Documents/github_folder/input/csv_to_csv/test1'"
      ]
     },
     "execution_count": 79,
     "metadata": {},
     "output_type": "execute_result"
    }
   ],
   "source": [
    "tester2"
   ]
  },
  {
   "cell_type": "code",
   "execution_count": 76,
   "metadata": {},
   "outputs": [],
   "source": [
    "testttt = os.path.basename(tester2)"
   ]
  },
  {
   "cell_type": "code",
   "execution_count": 71,
   "metadata": {},
   "outputs": [
    {
     "data": {
      "text/plain": [
       "'test1'"
      ]
     },
     "execution_count": 71,
     "metadata": {},
     "output_type": "execute_result"
    }
   ],
   "source": [
    "testttt"
   ]
  },
  {
   "cell_type": "code",
   "execution_count": 116,
   "metadata": {},
   "outputs": [],
   "source": [
    "base_path = os.getcwd()\n",
    "input_dirname = os.path.abspath(os.path.join(base_path,\"..\",\"..\",\"input\",\"csv_to_csv\"))\n",
    "output_dirname = os.path.abspath(os.path.join(base_path,\"..\",\"..\",\"output\",\"csv_to_csv\"))\n",
    "filenames = sorted(glob.glob(input_dirname + \"/**/*.csv\"))\n",
    "out_folder = os.path.basename(os.path.abspath(os.path.join(filenames[0],\"..\")))\n",
    "output_dirname = os.path.join(output_dirname,out_folder)\n",
    "os.makedirs(output_dirname,exist_ok=True)"
   ]
  },
  {
   "cell_type": "code",
   "execution_count": 110,
   "metadata": {},
   "outputs": [
    {
     "data": {
      "text/plain": [
       "'action_c2.csv'"
      ]
     },
     "execution_count": 110,
     "metadata": {},
     "output_type": "execute_result"
    }
   ],
   "source": [
    "out_pather"
   ]
  },
  {
   "cell_type": "code",
   "execution_count": 111,
   "metadata": {},
   "outputs": [
    {
     "data": {
      "text/plain": [
       "'test1'"
      ]
     },
     "execution_count": 111,
     "metadata": {},
     "output_type": "execute_result"
    }
   ],
   "source": [
    "out_folder"
   ]
  },
  {
   "cell_type": "code",
   "execution_count": 112,
   "metadata": {},
   "outputs": [
    {
     "data": {
      "text/plain": [
       "'/Users/uxg11/Documents/github_folder/input/csv_to_csv/test1/action_c2.csv'"
      ]
     },
     "execution_count": 112,
     "metadata": {},
     "output_type": "execute_result"
    }
   ],
   "source": [
    "filenames[0]"
   ]
  },
  {
   "cell_type": "code",
   "execution_count": 113,
   "metadata": {},
   "outputs": [
    {
     "data": {
      "text/plain": [
       "'test1'"
      ]
     },
     "execution_count": 113,
     "metadata": {},
     "output_type": "execute_result"
    }
   ],
   "source": [
    "out_folder"
   ]
  },
  {
   "cell_type": "code",
   "execution_count": 114,
   "metadata": {},
   "outputs": [
    {
     "data": {
      "text/plain": [
       "'/Users/uxg11/Documents/github_folder/output/csv_to_csv/test1'"
      ]
     },
     "execution_count": 114,
     "metadata": {},
     "output_type": "execute_result"
    }
   ],
   "source": [
    "output_dirname"
   ]
  },
  {
   "cell_type": "code",
   "execution_count": 117,
   "metadata": {},
   "outputs": [
    {
     "data": {
      "text/plain": [
       "['/Users/uxg11/Documents/github_folder/input/csv_to_csv/test1/action_c2.csv',\n",
       " '/Users/uxg11/Documents/github_folder/input/csv_to_csv/test2/action_c2.csv']"
      ]
     },
     "execution_count": 117,
     "metadata": {},
     "output_type": "execute_result"
    }
   ],
   "source": [
    "filenames"
   ]
  },
  {
   "cell_type": "code",
   "execution_count": null,
   "metadata": {},
   "outputs": [],
   "source": []
  }
 ],
 "metadata": {
  "kernelspec": {
   "display_name": "Python 3",
   "language": "python",
   "name": "python3"
  },
  "language_info": {
   "codemirror_mode": {
    "name": "ipython",
    "version": 3
   },
   "file_extension": ".py",
   "mimetype": "text/x-python",
   "name": "python",
   "nbconvert_exporter": "python",
   "pygments_lexer": "ipython3",
   "version": "3.7.6"
  },
  "nteract": {
   "version": "0.21.0"
  }
 },
 "nbformat": 4,
 "nbformat_minor": 4
}
