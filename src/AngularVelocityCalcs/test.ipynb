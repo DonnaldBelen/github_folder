{
 "cells": [
  {
   "cell_type": "code",
   "execution_count": 1,
   "metadata": {},
   "outputs": [],
   "source": [
    "import os\n",
    "import pandas as pd\n",
    "import numpy as np\n",
    "import plotly.graph_objects as go\n",
    "import plotly\n",
    "import datetime\n",
    "import matplotlib\n",
    "import matplotlib.pyplot as plt\n",
    "import math\n",
    "import glob"
   ]
  },
  {
   "cell_type": "code",
   "execution_count": 29,
   "metadata": {},
   "outputs": [
    {
     "name": "stdout",
     "output_type": "stream",
     "text": [
      "/Users/uxg11/Downloads/NickPapa-GazeVectorDataAnalysis/input/AngularVelocityCalcs\n"
     ]
    }
   ],
   "source": [
    "base_path = os.getcwd()\n",
    "input_dirname = os.path.abspath(os.path.join(base_path,\"..\",\"..\",\"input\",\"AngularVelocityCalcs\"))\n",
    "filenames = sorted(glob.glob(input_dirname + \"/*.csv\"))\n",
    "output_dirname = os.path.abspath(os.path.join(base_path,\"..\",\"..\",\"output\",\"AngularVelocityCalcs\"))\n",
    "print(input_dirname)\n",
    "out_folder = os.path.basename(os.path.abspath(os.path.join(filenames[0],\"..\")))\n",
    "output_dirname = os.path.join(output_dirname,out_folder)\n",
    "os.makedirs(output_dirname,exist_ok=True)"
   ]
  },
  {
   "cell_type": "code",
   "execution_count": 26,
   "metadata": {},
   "outputs": [
    {
     "data": {
      "text/plain": [
       "['/Users/uxg11/Downloads/NickPapa-GazeVectorDataAnalysis/input/AngularVelocityCalcs/df_kinect.csv']"
      ]
     },
     "execution_count": 26,
     "metadata": {},
     "output_type": "execute_result"
    }
   ],
   "source": [
    "filenames"
   ]
  },
  {
   "cell_type": "code",
   "execution_count": 27,
   "metadata": {},
   "outputs": [
    {
     "data": {
      "text/plain": [
       "'/Users/uxg11/Downloads/NickPapa-GazeVectorDataAnalysis/input/AngularVelocityCalcs'"
      ]
     },
     "execution_count": 27,
     "metadata": {},
     "output_type": "execute_result"
    }
   ],
   "source": [
    "input_dirname"
   ]
  },
  {
   "cell_type": "code",
   "execution_count": 30,
   "metadata": {},
   "outputs": [
    {
     "data": {
      "text/plain": [
       "'/Users/uxg11/Downloads/NickPapa-GazeVectorDataAnalysis/output/AngularVelocityCalcs/AngularVelocityCalcs'"
      ]
     },
     "execution_count": 30,
     "metadata": {},
     "output_type": "execute_result"
    }
   ],
   "source": [
    "output_dirname"
   ]
  },
  {
   "cell_type": "code",
   "execution_count": null,
   "metadata": {},
   "outputs": [],
   "source": []
  }
 ],
 "metadata": {
  "kernelspec": {
   "display_name": "Python 3",
   "language": "python",
   "name": "python3"
  },
  "language_info": {
   "codemirror_mode": {
    "name": "ipython",
    "version": 3
   },
   "file_extension": ".py",
   "mimetype": "text/x-python",
   "name": "python",
   "nbconvert_exporter": "python",
   "pygments_lexer": "ipython3",
   "version": "3.7.6"
  }
 },
 "nbformat": 4,
 "nbformat_minor": 4
}
