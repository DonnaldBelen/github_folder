{
 "cells": [
  {
   "cell_type": "code",
   "execution_count": 35,
   "metadata": {},
   "outputs": [
    {
     "name": "stdout",
     "output_type": "stream",
     "text": [
      "Started\n"
     ]
    }
   ],
   "source": [
    "print(\"Started\")\n",
    "\n",
    "import os\n",
    "import pandas as pd\n",
    "import numpy as np\n",
    "import plotly.graph_objects as go\n",
    "import plotly\n",
    "import datetime\n",
    "import glob\n",
    "cwd = os.getcwd()\n",
    "\n",
    "#targ column values: 0 - pelvis, 1 - naval, 2 - chest , 3 - neck\n",
    "targ_column = 0\n",
    "auto_open = False"
   ]
  },
  {
   "cell_type": "code",
   "execution_count": 36,
   "metadata": {},
   "outputs": [],
   "source": [
    "columns_2 = [\"data_seat2_joints_0_position_0\",\n",
    "\"data_seat2_joints_0_position_1\",\n",
    "\"data_seat2_joints_0_position_2\",\n",
    "\"data_seat2_joints_1_position_0\",\n",
    "\"data_seat2_joints_1_position_1\",\n",
    "\"data_seat2_joints_1_position_2\",\n",
    "\"data_seat2_joints_2_position_0\",\n",
    "\"data_seat2_joints_2_position_1\",\n",
    "\"data_seat2_joints_2_position_2\",\n",
    "\"data_seat2_joints_3_position_0\",\n",
    "\"data_seat2_joints_3_position_1\",\n",
    "\"data_seat2_joints_3_position_2\"]\n",
    "\n",
    "columns_3 = [\"data_seat3_joints_0_position_0\",\n",
    "\"data_seat_joints_0_position_1\",\n",
    "\"data_seat3_joints_0_position_2\",\n",
    "\"data_seat3_joints_1_position_0\",\n",
    "\"data_seat3_joints_1_position_1\",\n",
    "\"data_seat3_joints_1_position_2\",\n",
    "\"data_seat3_joints_2_position_0\",\n",
    "\"data_seat3_joints_2_position_1\",\n",
    "\"data_seat3_joints_2_position_2\",\n",
    "\"data_seat3_joints_3_position_0\",\n",
    "\"data_seat3_joints_3_position_1\",\n",
    "\"data_seat3_joints_3_position_2\"]\n",
    "\n",
    "columns_header = [\"PELVIS\",\n",
    "\"PELVIS\",\n",
    "\"PELVIS\",\n",
    "\"NAVAL\",\n",
    "\"NAVAL\",\n",
    "\"NAVAL\",\n",
    "\"CHEST\",\n",
    "\"CHEST\",\n",
    "\"CHEST\",\n",
    "\"NECK\",\n",
    "\"NECK\",\n",
    "\"NECK\"]\n",
    "column_handler =[0,3,6,9]"
   ]
  },
  {
   "cell_type": "code",
   "execution_count": 39,
   "metadata": {},
   "outputs": [],
   "source": [
    "base_path = os.getcwd()\n",
    "input_dirname = os.path.abspath(os.path.join(base_path,\"..\",\"..\",\"input\",\"visualize_lean_back\"))\n",
    "filenames = sorted(glob.glob(input_dirname + \"/**/*.csv\"))"
   ]
  },
  {
   "cell_type": "code",
   "execution_count": 40,
   "metadata": {
    "scrolled": true
   },
   "outputs": [
    {
     "name": "stdout",
     "output_type": "stream",
     "text": [
      "Finished\n"
     ]
    }
   ],
   "source": [
    "for filename in filenames:\n",
    "    basename = os.path.basename(filename)\n",
    "    df_Kinect = pd.read_csv(filename)\n",
    "    output_dirname = os.path.abspath(os.path.join(base_path,\"..\",\"..\",\"output\",\"visualize_lean_back\"))\n",
    "    out_folder = os.path.basename(os.path.abspath(os.path.join(filename,\"..\")))\n",
    "    output_dirname = os.path.join(output_dirname,out_folder)\n",
    "    os.makedirs(output_dirname,exist_ok=True)\n",
    "    out_filename = os.path.join(output_dirname, basename.replace('.csv','_parsed_json.html'))\n",
    "    title = \"Plot\"\n",
    "    participant = os.path.basename(output_dirname)\n",
    "    scatlayout_xt_yt = go.Layout(\n",
    "        xaxis=dict(\n",
    "            domain=[0, 1],\n",
    "            title=\"Time\",\n",
    "            anchor=\"y2\"\n",
    "        ),\n",
    "        yaxis1=dict(\n",
    "            title=\"Skeleton Y\",\n",
    "            domain=[.52,1],\n",
    "        ),\n",
    "        yaxis2=dict(\n",
    "            title=\"Skeleton Z\",\n",
    "            domain=[0,.48],\n",
    "        ),\n",
    "        title = title +\" - \"+ participant +\" - Skeleton \"+ column_header[column_handler[targ_column]] +\" Joint vs Time\",\n",
    "    )\n",
    "    scatfig_xyxt = plotly.graph_objs.Figure(layout=scatlayout_xt_yt)\n",
    "    # xaxis = 'x1'\n",
    "    # yaxis = 'y1'\n",
    "    # targ_column = 3\n",
    "    # # Kinect Look Point X vs t\n",
    "    # xdata = df_Kinect[\"sensing_time\"]\n",
    "    # ydata = df_Kinect[columns_2[targ_column]]\n",
    "    # trace_kinect = plotly.graph_objs.Scatter(\n",
    "    #     x = xdata,y= ydata,xaxis=xaxis,yaxis=yaxis,\n",
    "    #     name=\"Skeleton X\",\n",
    "    #     mode=\"markers\",\n",
    "    #     marker=dict(size=5, symbol=\"square\"),\n",
    "    #     )\n",
    "    # scatfig_xyxt.add_trace(trace_kinect)\n",
    "\n",
    "    xaxis = 'x1'\n",
    "    yaxis = 'y1'\n",
    "    # Kinect Look Point Y vs t\n",
    "    xdata = df_Kinect[\"sensing_time\"]\n",
    "    ydata = df_Kinect[columns_2[targ_column+1]]\n",
    "    trace_kinect = plotly.graph_objs.Scatter(\n",
    "        x = xdata,y= ydata,xaxis=xaxis,yaxis=yaxis,\n",
    "        name=\"Skeleton Y\",\n",
    "        mode=\"markers\",\n",
    "        marker=dict(size=5, symbol=\"square\"),\n",
    "        )\n",
    "    scatfig_xyxt.add_trace(trace_kinect)\n",
    "\n",
    "    xaxis = 'x1'\n",
    "    yaxis = 'y2'\n",
    "    # Kinect Look Point Z vs t\n",
    "    xdata = df_Kinect[\"sensing_time\"]\n",
    "    ydata = df_Kinect[columns_2[targ_column+2]]\n",
    "    trace_kinect = plotly.graph_objs.Scatter(\n",
    "        x = xdata,y= ydata,xaxis=xaxis,yaxis=yaxis,\n",
    "        name=\"Skeleton Z\",\n",
    "        mode=\"markers\",\n",
    "        marker=dict(size=5, symbol=\"square\"),\n",
    "        )\n",
    "    scatfig_xyxt.add_trace(trace_kinect)\n",
    "\n",
    "    \n",
    "    plot_filepath = out_filename\n",
    "    plotly.offline.plot(scatfig_xyxt, filename = plot_filepath,auto_open=auto_open)\n",
    "    \n",
    "print(\"Finished\")"
   ]
  },
  {
   "cell_type": "code",
   "execution_count": null,
   "metadata": {},
   "outputs": [],
   "source": []
  }
 ],
 "metadata": {
  "kernelspec": {
   "display_name": "Python 3",
   "language": "python",
   "name": "python3"
  },
  "language_info": {
   "codemirror_mode": {
    "name": "ipython",
    "version": 3
   },
   "file_extension": ".py",
   "mimetype": "text/x-python",
   "name": "python",
   "nbconvert_exporter": "python",
   "pygments_lexer": "ipython3",
   "version": "3.7.6"
  }
 },
 "nbformat": 4,
 "nbformat_minor": 4
}
