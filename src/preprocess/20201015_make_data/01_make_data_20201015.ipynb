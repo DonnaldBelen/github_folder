{
 "cells": [
  {
   "cell_type": "markdown",
   "metadata": {
    "code_folding": []
   },
   "source": [
    "## データ属性パック化,整形,再計算の実施  "
   ]
  },
  {
   "cell_type": "code",
   "execution_count": null,
   "metadata": {},
   "outputs": [],
   "source": [
    "# coding:utf-8\n",
    "import numpy as np\n",
    "import pandas as pd\n",
    "import os\n",
    "import glob\n",
    "import pickle"
   ]
  },
  {
   "cell_type": "code",
   "execution_count": null,
   "metadata": {},
   "outputs": [],
   "source": [
    "# 解析基準位置に移動する関数\n",
    "def move_root_dir(root_dir):\n",
    "    while not (os.path.basename(os.getcwd())== root_dir):\n",
    "        os.chdir('../')\n",
    "    print('moving to:',os.path.basename(os.getcwd()))\n",
    "    return os.getcwd()\n",
    "\n",
    "# 関数ボックス\n",
    "def read_csv_file(csv_file):\n",
    "    df = pd.read_csv(csv_file)\n",
    "    return df\n"
   ]
  },
  {
   "cell_type": "code",
   "execution_count": null,
   "metadata": {},
   "outputs": [],
   "source": [
    "work_code='20201015_preprocess_data'\n",
    "root_dir = '2020_moox_morikoro_project'\n",
    "root_path = move_root_dir(root_dir)\n",
    "input_data_dir = 'input/20201015_csvdata'\n",
    "save_csv_dir = 'preprocess_data/'+work_code+'/csvfile'\n",
    "if not os.path.isdir(save_csv_dir):\n",
    "    os.makedirs(save_csv_dir)\n",
    "save_pkl_dir= 'preprocess_data/'+work_code+'/pkl'\n",
    "if not os.path.isdir(save_pkl_dir):\n",
    "    os.makedirs(save_pkl_dir)"
   ]
  },
  {
   "cell_type": "markdown",
   "metadata": {},
   "source": [
    "# データ読み込み　"
   ]
  },
  {
   "cell_type": "code",
   "execution_count": null,
   "metadata": {
    "code_folding": []
   },
   "outputs": [],
   "source": [
    "# データセット作成\n",
    "exp_code = work_code\n",
    "csv_files=glob.glob(input_data_dir+'/*.csv')\n",
    "\n",
    "data_box=[]\n",
    "#for t_box in time_box:\n",
    "for csv_file in csv_files:\n",
    "    df_data=pd.read_csv(csv_file)\n",
    "    filename=os.path.basename(csv_file)\n",
    "    # ファイル名からの属性読み込み\n",
    "    # pp=filename[7:10]\n",
    "    # ss=filename[10:13]\n",
    "    # tt=filename[-7:-4]\n",
    "    # st=''\n",
    "    # fn=''\n",
    "    # mask=int(filename[-9:-8])\n",
    "    pp='p04'\n",
    "    ss='s03'\n",
    "    tt='moox_test_1015'\n",
    "    st=''\n",
    "    fn=''\n",
    "    mask=int(1)\n",
    "    print(pp,ss,tt,mask)\n",
    "    # 処理開始\n",
    "    \n",
    "    # 処理終了\n",
    "    # csv保存\n",
    "    filename= save_csv_dir+'/' + pp+ss+tt+'_'+str(mask)+'.csv'\n",
    "    df_data.to_csv(filename,index=False)\n",
    "    print(filename)\n",
    "    # 格納\n",
    "    box=[pp,ss,tt,st,fn,df_data,mask]\n",
    "    data_box.append(box)\n",
    "# データパッキング\n",
    "print('data_count: ',len(data_box))\n",
    "# pkl保存\n",
    "finename = save_pkl_dir+'/'+exp_code+'.pkl'\n",
    "with open(finename, 'wb') as web:\n",
    "    pickle.dump(data_box, web)\n",
    "print('saved ', finename)"
   ]
  },
  {
   "cell_type": "code",
   "execution_count": null,
   "metadata": {},
   "outputs": [],
   "source": []
  }
 ],
 "metadata": {
  "hide_input": false,
  "kernelspec": {
   "display_name": "Python 3",
   "language": "python",
   "name": "python3"
  },
  "language_info": {
   "codemirror_mode": {
    "name": "ipython",
    "version": 3
   },
   "file_extension": ".py",
   "mimetype": "text/x-python",
   "name": "python",
   "nbconvert_exporter": "python",
   "pygments_lexer": "ipython3",
   "version": "3.6.9"
  },
  "toc": {
   "base_numbering": 1,
   "nav_menu": {},
   "number_sections": true,
   "sideBar": true,
   "skip_h1_title": false,
   "title_cell": "Table of Contents",
   "title_sidebar": "Contents",
   "toc_cell": false,
   "toc_position": {},
   "toc_section_display": true,
   "toc_window_display": false
  },
  "widgets": {
   "state": {},
   "version": "1.1.2"
  }
 },
 "nbformat": 4,
 "nbformat_minor": 2
}
